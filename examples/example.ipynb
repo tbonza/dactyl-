{
 "cells": [
  {
   "cell_type": "code",
   "execution_count": 1,
   "id": "01d2719e-3cfa-46a1-ac34-24cd07d5571f",
   "metadata": {},
   "outputs": [],
   "source": [
    "from collections import deque\n",
    "from typing import List, Tuple\n",
    "\n",
    "from pydantic import BaseModel, Field\n",
    "from spondee.search import nlp_pipeline, identify_statements, sentence_metadata"
   ]
  },
  {
   "cell_type": "code",
   "execution_count": 2,
   "id": "4e4096a9-28c5-4682-989e-fcd78db83a83",
   "metadata": {},
   "outputs": [
    {
     "name": "stderr",
     "output_type": "stream",
     "text": [
      "2024-07-07 01:28:45 INFO: Checking for updates to resources.json in case models have been updated.  Note: this behavior can be turned off with download_method=None or download_method=DownloadMethod.REUSE_RESOURCES\n"
     ]
    },
    {
     "data": {
      "application/vnd.jupyter.widget-view+json": {
       "model_id": "78599bcc70c6483cbf5cd81b26577f83",
       "version_major": 2,
       "version_minor": 0
      },
      "text/plain": [
       "Downloading https://raw.githubusercontent.com/stanfordnlp/stanza-resources/main/resources_1.8.0.json:   0%|   …"
      ]
     },
     "metadata": {},
     "output_type": "display_data"
    },
    {
     "name": "stderr",
     "output_type": "stream",
     "text": [
      "2024-07-07 01:28:45 INFO: Downloaded file to /Users/tylerbrown/stanza_resources/resources.json\n",
      "2024-07-07 01:28:45 WARNING: Language en package default expects mwt, which has been added\n",
      "2024-07-07 01:28:45 INFO: Loading these models for language: en (English):\n",
      "======================================\n",
      "| Processor    | Package             |\n",
      "--------------------------------------\n",
      "| tokenize     | combined            |\n",
      "| mwt          | combined            |\n",
      "| pos          | combined_charlm     |\n",
      "| constituency | ptb3-revised_charlm |\n",
      "======================================\n",
      "\n",
      "2024-07-07 01:28:45 INFO: Using device: cpu\n",
      "2024-07-07 01:28:45 INFO: Loading: tokenize\n",
      "2024-07-07 01:28:46 INFO: Loading: mwt\n",
      "2024-07-07 01:28:46 INFO: Loading: pos\n",
      "2024-07-07 01:28:46 INFO: Loading: constituency\n",
      "2024-07-07 01:28:46 INFO: Done loading processors!\n"
     ]
    }
   ],
   "source": [
    "nlp = nlp_pipeline()"
   ]
  },
  {
   "cell_type": "code",
   "execution_count": 3,
   "id": "05546c74-ee98-4e58-a6a1-aa034193f67e",
   "metadata": {},
   "outputs": [],
   "source": [
    "txt = \"\".join(\n",
    "        [\n",
    "            \"Gavin Sheets hit his first career grand slam, and the \",\n",
    "            \"Chicago White Sox won their second straight after a \",\n",
    "            \"franchise-record 14-game losing streak, beating the \",\n",
    "            \"Boston Red Sox 6-1 on Saturday.\",\n",
    "        ]\n",
    "    )"
   ]
  },
  {
   "cell_type": "code",
   "execution_count": null,
   "id": "4856763f-8056-42b8-b060-b77c51bc5c41",
   "metadata": {},
   "outputs": [],
   "source": [
    "#search_text(txt, nlp)"
   ]
  },
  {
   "cell_type": "code",
   "execution_count": 11,
   "id": "10023535-ebd1-421e-9a1a-61caa9ee21c2",
   "metadata": {},
   "outputs": [],
   "source": [
    "from spondee.schemas import Sentence"
   ]
  },
  {
   "cell_type": "code",
   "execution_count": 8,
   "id": "685e1e7a-14ec-41a0-b6f8-e30640105837",
   "metadata": {},
   "outputs": [],
   "source": [
    "doc = nlp(txt)"
   ]
  },
  {
   "cell_type": "code",
   "execution_count": 41,
   "id": "058c41a1-2d9c-445f-a4e8-1cfe594a2d9a",
   "metadata": {},
   "outputs": [
    {
     "name": "stdout",
     "output_type": "stream",
     "text": [
      "subject: Gavin Sheets\n",
      "predicate: hit his first career grand slam\n",
      "predicate np: first career grand slam\n",
      "subject np: Gavin Sheets\n",
      "\n",
      "subject: the Chicago White Sox\n",
      "predicate: won their second straight after a franchise-record 14-game losing streak, beating the Boston Red Sox 6-1 on Saturday\n",
      "predicate np: second straight\n",
      "predicate np: franchise-record 14-game losing streak\n",
      "predicate np: Boston Red Sox\n",
      "predicate np: Saturday\n",
      "subject np: Chicago White Sox\n",
      "\n"
     ]
    }
   ],
   "source": [
    "for i, sentence in enumerate(doc.sentences):\n",
    "\n",
    "    tree = sentence.constituency\n",
    "    statements = identify_statements(tree)\n",
    "    _slice = lambda x : (0,0) if len(x) == 0 else (x[0].start_char, x[-1].end_char)\n",
    "\n",
    "    paths = sentence_metadata(i, statements, sentence.to_dict())\n",
    "    for smeta in paths:\n",
    "\n",
    "        start_char, end_char = _slice(smeta.subject)\n",
    "        print(f\"subject: {txt[start_char:end_char]}\")\n",
    "        \n",
    "        start_char, end_char = _slice(smeta.predicate)\n",
    "        print(f\"predicate: {txt[start_char:end_char]}\")\n",
    "\n",
    "        for predicate_np in smeta.predicate_noun_phrases:\n",
    "            start_char, end_char = _slice(predicate_np)\n",
    "            print(f\"predicate np: {txt[start_char:end_char]}\")\n",
    "\n",
    "        for subject_np in smeta.subject_noun_phrases:\n",
    "            start_char, end_char = _slice(subject_np)\n",
    "            print(f\"subject np: {txt[start_char:end_char]}\")\n",
    "\n",
    "        print()\n",
    "\n",
    "      \n",
    "        #    sidx=smeta.sidx,\n",
    "        #    subject=[ txt[get_slice(inst)] for inst in smeta.subject ],\n",
    "        #    predicate=\n",
    "        #)"
   ]
  },
  {
   "cell_type": "code",
   "execution_count": 24,
   "id": "794fed37-a2d6-44b0-9bbe-5a5f309b8e4e",
   "metadata": {},
   "outputs": [],
   "source": [
    "paths[0].subject\n",
    "\n",
    "def get_slice(meta):\n",
    "    if len(meta) == 0:\n",
    "        return slice(0, 0)\n",
    "\n",
    "    return slice(meta[0].start_char, meta[-1].end_char)"
   ]
  },
  {
   "cell_type": "code",
   "execution_count": null,
   "id": "d7d4a674-aea4-4fa6-9bc8-cde5bd472935",
   "metadata": {},
   "outputs": [],
   "source": [
    "tree = docs.sentences[0].constituency\n",
    "statements = identify_statements(tree)"
   ]
  },
  {
   "cell_type": "code",
   "execution_count": null,
   "id": "15e75132-1bc8-4e3c-a8be-4f56df27426e",
   "metadata": {},
   "outputs": [],
   "source": [
    "_paths = sentence_metadata(statements, docs.sentences[0].to_dict())"
   ]
  },
  {
   "cell_type": "code",
   "execution_count": null,
   "id": "8c29fbe1-23d5-4652-bb77-d283c9083381",
   "metadata": {},
   "outputs": [],
   "source": [
    "for grp in _paths[1][3]:\n",
    "    for m in grp:\n",
    "        LeafLabel.model_validate(m)"
   ]
  },
  {
   "cell_type": "code",
   "execution_count": null,
   "id": "09da4650-4a95-479e-a4e6-6355824fe267",
   "metadata": {},
   "outputs": [],
   "source": [
    "len(_paths)"
   ]
  },
  {
   "cell_type": "code",
   "execution_count": null,
   "id": "f14243ba-7566-4fd2-81a7-cd048ddc3070",
   "metadata": {},
   "outputs": [],
   "source": [
    "_paths[1][2]["
   ]
  },
  {
   "cell_type": "code",
   "execution_count": 15,
   "id": "9314dd45-964a-45ad-9378-baf1dfbb2148",
   "metadata": {},
   "outputs": [
    {
     "data": {
      "text/plain": [
       "''"
      ]
     },
     "execution_count": 15,
     "metadata": {},
     "output_type": "execute_result"
    }
   ],
   "source": [
    "\"foo\"[0:0]"
   ]
  },
  {
   "cell_type": "code",
   "execution_count": null,
   "id": "865d015a-8cc4-4f94-bbf2-8f43b8daf6d8",
   "metadata": {},
   "outputs": [],
   "source": [
    "for grp in _paths[1][3]:\n",
    "    for m in grp:\n",
    "        try:\n",
    "            LeafLabel.model_validate(m)\n",
    "        except Exception as exc:\n",
    "            print(m, exc)"
   ]
  },
  {
   "cell_type": "code",
   "execution_count": null,
   "id": "de638e49-4977-48fa-9d0f-477f37b7f903",
   "metadata": {},
   "outputs": [],
   "source": []
  },
  {
   "cell_type": "code",
   "execution_count": null,
   "id": "0c027fb0-deeb-4b10-ac9d-1857b61b23bd",
   "metadata": {},
   "outputs": [],
   "source": []
  }
 ],
 "metadata": {
  "kernelspec": {
   "display_name": "Python 3 (ipykernel)",
   "language": "python",
   "name": "python3"
  },
  "language_info": {
   "codemirror_mode": {
    "name": "ipython",
    "version": 3
   },
   "file_extension": ".py",
   "mimetype": "text/x-python",
   "name": "python",
   "nbconvert_exporter": "python",
   "pygments_lexer": "ipython3",
   "version": "3.11.9"
  }
 },
 "nbformat": 4,
 "nbformat_minor": 5
}
