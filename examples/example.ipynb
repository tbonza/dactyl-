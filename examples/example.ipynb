{
 "cells": [
  {
   "cell_type": "code",
   "execution_count": 61,
   "id": "01d2719e-3cfa-46a1-ac34-24cd07d5571f",
   "metadata": {},
   "outputs": [],
   "source": [
    "from collections import deque\n",
    "from typing import Tuple\n",
    "\n",
    "from spondee.search import nlp_pipeline, search_text, identify_statements"
   ]
  },
  {
   "cell_type": "code",
   "execution_count": 2,
   "id": "4e4096a9-28c5-4682-989e-fcd78db83a83",
   "metadata": {},
   "outputs": [
    {
     "name": "stderr",
     "output_type": "stream",
     "text": [
      "2024-07-05 21:34:09 INFO: Checking for updates to resources.json in case models have been updated.  Note: this behavior can be turned off with download_method=None or download_method=DownloadMethod.REUSE_RESOURCES\n"
     ]
    },
    {
     "data": {
      "application/vnd.jupyter.widget-view+json": {
       "model_id": "77bb1b13477140df83b20c9db5d307f7",
       "version_major": 2,
       "version_minor": 0
      },
      "text/plain": [
       "Downloading https://raw.githubusercontent.com/stanfordnlp/stanza-resources/main/resources_1.8.0.json:   0%|   …"
      ]
     },
     "metadata": {},
     "output_type": "display_data"
    },
    {
     "name": "stderr",
     "output_type": "stream",
     "text": [
      "2024-07-05 21:34:10 INFO: Downloaded file to /Users/tylerbrown/stanza_resources/resources.json\n",
      "2024-07-05 21:34:10 WARNING: Language en package default expects mwt, which has been added\n",
      "2024-07-05 21:34:10 INFO: Loading these models for language: en (English):\n",
      "======================================\n",
      "| Processor    | Package             |\n",
      "--------------------------------------\n",
      "| tokenize     | combined            |\n",
      "| mwt          | combined            |\n",
      "| pos          | combined_charlm     |\n",
      "| constituency | ptb3-revised_charlm |\n",
      "======================================\n",
      "\n",
      "2024-07-05 21:34:10 INFO: Using device: cpu\n",
      "2024-07-05 21:34:10 INFO: Loading: tokenize\n",
      "2024-07-05 21:34:10 INFO: Loading: mwt\n",
      "2024-07-05 21:34:10 INFO: Loading: pos\n",
      "2024-07-05 21:34:10 INFO: Loading: constituency\n",
      "2024-07-05 21:34:11 INFO: Done loading processors!\n"
     ]
    }
   ],
   "source": [
    "nlp = nlp_pipeline()"
   ]
  },
  {
   "cell_type": "code",
   "execution_count": 6,
   "id": "05546c74-ee98-4e58-a6a1-aa034193f67e",
   "metadata": {},
   "outputs": [],
   "source": [
    "txt = \"\".join(\n",
    "        [\n",
    "            \"Gavin Sheets hit his first career grand slam, and the \",\n",
    "            \"Chicago White Sox won their second straight after a \",\n",
    "            \"franchise-record 14-game losing streak, beating the \",\n",
    "            \"Boston Red Sox 6-1 on Saturday.\",\n",
    "        ]\n",
    "    )"
   ]
  },
  {
   "cell_type": "code",
   "execution_count": 7,
   "id": "4856763f-8056-42b8-b060-b77c51bc5c41",
   "metadata": {},
   "outputs": [
    {
     "data": {
      "text/plain": [
       "[Sentence(sidx=0, subject=['Chicago White Sox'], subject_text=['the', 'Chicago', 'White', 'Sox'], predicate=['second straight', 'franchise-record 14-game losing streak', 'Boston Red Sox', 'Saturday'], predicate_text=['won', 'their', 'second', 'straight', 'after', 'a', 'franchise', '-', 'record', '14', '-', 'game', 'losing', 'streak', ',', 'beating', 'the', 'Boston', 'Red', 'Sox', '6', '-', '1', 'on', 'Saturday']),\n",
       " Sentence(sidx=0, subject=['Gavin Sheets'], subject_text=['Gavin', 'Sheets'], predicate=['first career grand slam'], predicate_text=['hit', 'his', 'first', 'career', 'grand', 'slam'])]"
      ]
     },
     "execution_count": 7,
     "metadata": {},
     "output_type": "execute_result"
    }
   ],
   "source": [
    "search_text(txt, nlp)"
   ]
  },
  {
   "cell_type": "code",
   "execution_count": 8,
   "id": "685e1e7a-14ec-41a0-b6f8-e30640105837",
   "metadata": {},
   "outputs": [],
   "source": [
    "docs = nlp(txt)"
   ]
  },
  {
   "cell_type": "code",
   "execution_count": 12,
   "id": "bce5fc1f-d19c-4463-999e-a77ef1838709",
   "metadata": {},
   "outputs": [],
   "source": [
    "tree = docs.sentences[0].constituency"
   ]
  },
  {
   "cell_type": "code",
   "execution_count": 16,
   "id": "794fed37-a2d6-44b0-9bbe-5a5f309b8e4e",
   "metadata": {},
   "outputs": [],
   "source": [
    "noun_phrase, verb_phrase = identify_statements(tree)"
   ]
  },
  {
   "cell_type": "code",
   "execution_count": 17,
   "id": "05d6de9d-7e4f-424c-b5a6-ba2ec7568ca4",
   "metadata": {},
   "outputs": [
    {
     "data": {
      "text/plain": [
       "((NP (NNP Gavin) (NNP Sheets)),\n",
       " (VP (VBD hit) (NP (PRP$ his) (JJ first) (NN career) (JJ grand) (NN slam))))"
      ]
     },
     "execution_count": 17,
     "metadata": {},
     "output_type": "execute_result"
    }
   ],
   "source": [
    "verb_phrase"
   ]
  },
  {
   "cell_type": "code",
   "execution_count": 75,
   "id": "4a72095d-4bf0-471f-a8ea-7e9043399920",
   "metadata": {},
   "outputs": [],
   "source": [
    " def nounphrase_text(node) -> Tuple[str, bool]:                                  \n",
    "    \"\"\"Depth first search recovers child node and parent label.\"\"\"              \n",
    "    txt = []                                                                    \n",
    "    stack = [node]                                                              \n",
    "    prev_label = node.label                                                     \n",
    "    while stack:                                                                \n",
    "        node = stack.pop()                                                      \n",
    "        if len(node.children) == 0:                                             \n",
    "            txt.append((prev_label, node.label))                                \n",
    "            \n",
    "        stack.extend(node.children)                                             \n",
    "        prev_label = node.label                                                 \n",
    "                                                                        \n",
    "    txt.reverse()\n",
    "    return txt"
   ]
  },
  {
   "cell_type": "code",
   "execution_count": 76,
   "id": "97e7c649-3b8b-4eae-9400-738d16efa462",
   "metadata": {},
   "outputs": [],
   "source": [
    "def extract_np(tree):\n",
    "    paths = []\n",
    "    q = deque([tree])\n",
    "    while q:\n",
    "        node = q.popleft()\n",
    "        print(node)\n",
    "        if node.label == \"NP\":\n",
    "            paths.append(nounphrase_text(node))\n",
    "\n",
    "        else:\n",
    "            q.extend(node.children)\n",
    "\n",
    "    return paths"
   ]
  },
  {
   "cell_type": "code",
   "execution_count": 77,
   "id": "86576211-2de0-4d82-ab9e-a5774f94e9c4",
   "metadata": {},
   "outputs": [
    {
     "data": {
      "text/plain": [
       "(VP (VBD hit) (NP (PRP$ his) (JJ first) (NN career) (JJ grand) (NN slam)))"
      ]
     },
     "execution_count": 77,
     "metadata": {},
     "output_type": "execute_result"
    }
   ],
   "source": [
    "verb_phrase[1]"
   ]
  },
  {
   "cell_type": "code",
   "execution_count": null,
   "id": "cdca3179-aefe-4473-a825-694054b515ec",
   "metadata": {},
   "outputs": [],
   "source": []
  },
  {
   "cell_type": "code",
   "execution_count": 78,
   "id": "94d238a4-f159-4294-a3f0-50f13dd529e8",
   "metadata": {},
   "outputs": [
    {
     "name": "stdout",
     "output_type": "stream",
     "text": [
      "(VP (VBD hit) (NP (PRP$ his) (JJ first) (NN career) (JJ grand) (NN slam)))\n",
      "(VBD hit)\n",
      "(NP (PRP$ his) (JJ first) (NN career) (JJ grand) (NN slam))\n",
      "hit\n"
     ]
    }
   ],
   "source": [
    "hmm = extract_np(verb_phrase[1])"
   ]
  },
  {
   "cell_type": "code",
   "execution_count": 79,
   "id": "be5c463b-ae12-43fa-a20a-6b1f35fd19e9",
   "metadata": {},
   "outputs": [
    {
     "data": {
      "text/plain": [
       "[[('PRP$', 'his'),\n",
       "  ('JJ', 'first'),\n",
       "  ('NN', 'career'),\n",
       "  ('JJ', 'grand'),\n",
       "  ('NN', 'slam')]]"
      ]
     },
     "execution_count": 79,
     "metadata": {},
     "output_type": "execute_result"
    }
   ],
   "source": [
    "hmm"
   ]
  },
  {
   "cell_type": "code",
   "execution_count": 105,
   "id": "23efe141-09dc-4092-9b67-20238330830f",
   "metadata": {},
   "outputs": [],
   "source": [
    "q = deque([ d for d in docs.sentences[0].to_dict() ])"
   ]
  },
  {
   "cell_type": "code",
   "execution_count": 106,
   "id": "6043dbc1-afaf-4954-8a57-f4d06b877f07",
   "metadata": {},
   "outputs": [],
   "source": [
    "paths = []\n",
    "while q:\n",
    "    node = q.popleft()\n",
    "    k = (node['xpos'], node['text'])\n",
    "\n",
    "    if k == hmm[0][0]:\n",
    "        grp = [ node ]\n",
    "        ok = all([ hmm[0][i] == (q[i-1]['xpos'], q[i-1]['text']) for i in range(1, len(hmm[0])) ])\n",
    "        if ok:\n",
    "            for i in range(1, len(hmm[0])):\n",
    "                node = q.popleft()\n",
    "                grp.append(node)\n",
    "\n",
    "        paths.append(grp)"
   ]
  },
  {
   "cell_type": "code",
   "execution_count": 107,
   "id": "1b627bfc-1ca1-4f2d-90fb-c4dc4462a248",
   "metadata": {},
   "outputs": [
    {
     "data": {
      "text/plain": [
       "[[{'id': 4,\n",
       "   'text': 'his',\n",
       "   'upos': 'PRON',\n",
       "   'xpos': 'PRP$',\n",
       "   'feats': 'Case=Gen|Gender=Masc|Number=Sing|Person=3|Poss=Yes|PronType=Prs',\n",
       "   'start_char': 17,\n",
       "   'end_char': 20},\n",
       "  {'id': 5,\n",
       "   'text': 'first',\n",
       "   'upos': 'ADJ',\n",
       "   'xpos': 'JJ',\n",
       "   'feats': 'Degree=Pos|NumType=Ord',\n",
       "   'start_char': 21,\n",
       "   'end_char': 26},\n",
       "  {'id': 6,\n",
       "   'text': 'career',\n",
       "   'upos': 'NOUN',\n",
       "   'xpos': 'NN',\n",
       "   'feats': 'Number=Sing',\n",
       "   'start_char': 27,\n",
       "   'end_char': 33},\n",
       "  {'id': 7,\n",
       "   'text': 'grand',\n",
       "   'upos': 'ADJ',\n",
       "   'xpos': 'JJ',\n",
       "   'feats': 'Degree=Pos',\n",
       "   'start_char': 34,\n",
       "   'end_char': 39},\n",
       "  {'id': 8,\n",
       "   'text': 'slam',\n",
       "   'upos': 'NOUN',\n",
       "   'xpos': 'NN',\n",
       "   'feats': 'Number=Sing',\n",
       "   'start_char': 40,\n",
       "   'end_char': 44,\n",
       "   'misc': 'SpaceAfter=No'}]]"
      ]
     },
     "execution_count": 107,
     "metadata": {},
     "output_type": "execute_result"
    }
   ],
   "source": [
    "paths"
   ]
  },
  {
   "cell_type": "code",
   "execution_count": null,
   "id": "01c7bc15-a818-44bb-bfea-fc3fc39aa6f7",
   "metadata": {},
   "outputs": [],
   "source": []
  }
 ],
 "metadata": {
  "kernelspec": {
   "display_name": "Python 3 (ipykernel)",
   "language": "python",
   "name": "python3"
  },
  "language_info": {
   "codemirror_mode": {
    "name": "ipython",
    "version": 3
   },
   "file_extension": ".py",
   "mimetype": "text/x-python",
   "name": "python",
   "nbconvert_exporter": "python",
   "pygments_lexer": "ipython3",
   "version": "3.11.9"
  }
 },
 "nbformat": 4,
 "nbformat_minor": 5
}
